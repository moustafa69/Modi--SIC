{
 "cells": [
  {
   "cell_type": "code",
   "execution_count": 1,
   "metadata": {},
   "outputs": [
    {
     "name": "stdout",
     "output_type": "stream",
     "text": [
      "           0  1  2  3  4  5  6  7  8  9  A  B  C  D  E  F\n",
      "Addresses                                                \n",
      "1000       X  X  X  X  X  X  X  X  X  X  X  X  X  X  X  X\n",
      "1010       X  X  X  X  X  X  X  X  X  X  X  X  X  X  X  X\n",
      "1020       X  X  X  X  X  X  X  X  X  X  X  X  X  X  X  X\n",
      "1030       X  X  X  X  X  X  X  X  X  X  X  X  X  X  X  X\n",
      "1040       X  X  X  X  X  X  X  X  X  X  X  X  X  X  X  X\n",
      "...       .. .. .. .. .. .. .. .. .. .. .. .. .. .. .. ..\n",
      "2030       X  X  X  X  X  X  X  X  X  X  X  X  X  X  X  X\n",
      "2040       X  X  X  X  X  X  X  X  X  X  X  X  X  X  X  X\n",
      "2050       X  X  X  X  X  X  X  X  X  X  X  X  X  X  X  X\n",
      "2060       X  X  X  X  X  X  X  X  X  X  X  X  X  X  X  X\n",
      "2070       X  X  X  X  X  X  X  X  X  X  X  X  X  X  X  X\n",
      "\n",
      "[264 rows x 16 columns]\n",
      "            0   1   2   3   4   5   6   7   8   9   A   B   C   D   E   F\n",
      "Addresses                                                                \n",
      "1000       14  10  33  48  20  39  00  10  36  28  10  30  30  10  15  48\n",
      "1010       20  61  3C  10  03  00  10  2A  0C  10  39  00  10  2D  0C  10\n",
      "1020       36  48  20  61  08  10  33  4C  00  00  45  4F  46  00  00  03\n",
      "1030       00  00  00   X   X   X   X   X   X   X   X   X   X   X   X   X\n",
      "1040        X   X   X   X   X   X   X   X   X   X   X   X   X   X   X   X\n",
      "...        ..  ..  ..  ..  ..  ..  ..  ..  ..  ..  ..  ..  ..  ..  ..  ..\n",
      "2030        X   X   X   X   X   X   X   X   X  04  10  30  00  10  30  E0\n",
      "2040       20  5D  30  20  3F  D8  20  5D  28  10  30  30  20  57  54  90\n",
      "2050       39  2C  20  5E  38  20  3F  10  10  36  4C  00  00  F1  00  10\n",
      "2060       00  04  10  30  E0  20  79  30  20  64  50  90  39  DC  20  79\n",
      "2070       2C  10  36  38  20  64  4C  00  00  05   X   X   X   X   X   X\n",
      "\n",
      "[264 rows x 16 columns]\n"
     ]
    }
   ],
   "source": [
    "import pandas as pd \n",
    "\n",
    "## reading the file to get the memory start,length and end\n",
    "\n",
    "f =  open('in_test_no_dots.txt','r') \n",
    "header = f.readline() \n",
    "\n",
    "\n",
    "\n",
    "start_address = header[7:-7]\n",
    "end_address = hex(int(start_address,16) + int(header[-6:],16))[2:].upper()\n",
    "real_end = end_address[:-1] + '0'\n",
    "\n",
    "\n",
    "#Adding adresses to an empty list\n",
    "addresses = []\n",
    "start_int = int(start_address,16) \n",
    "end_int = int(real_end,16)\n",
    "next_address = hex(start_int)[2:].upper()\n",
    "while next_address != hex(end_int+16)[2:].upper():\n",
    "    addresses.append(next_address)\n",
    "    next_address = hex(start_int + 16)[2:].upper()\n",
    "    start_int = int(next_address,16)\n",
    "   \n",
    "#creating a dataframe for the memory graph\n",
    "\n",
    "df = pd.DataFrame()\n",
    "df = df.assign(**{'Addresses':addresses,'0': 'X', '1': 'X', '2': 'X','3':'X','4':'X','5':'X','6':'X','7':'X','8':'X','9':'X','A':'X','B':'X','C':'X','D':'X','E':'X','F':'X'})\n",
    "df = df.set_index('Addresses')\n",
    "\n",
    "print(df)\n",
    "\n",
    "\n",
    "#how to fill the rows\n",
    "\n",
    "T_rec = f.readlines()[0:-1]\n",
    "\n",
    "for record in T_rec:\n",
    "    startT = record[1:7]\n",
    "    col = startT[-1].upper()\n",
    "    startT = startT[:-1] + '0'\n",
    "\n",
    "    rest = record[9:]\n",
    "    i = 0\n",
    "\n",
    "    while i <  len(rest) - 1:\n",
    "\n",
    "        df.at[startT[2:], col] = (rest[i] + rest[i + 1])\n",
    "\n",
    "        if int(col, 16) < 15:\n",
    "            col = hex(int(col, 16) + 1)[2:].upper()\n",
    "\n",
    "        else:\n",
    "            col = \"0\"\n",
    "            startT = hex(int(startT, 16) + 16).upper()\n",
    "\n",
    "        i = i + 2\n",
    "\n",
    "print(df)\n",
    "\n",
    "\n",
    "\n",
    "\n"
   ]
  }
 ],
 "metadata": {
  "kernelspec": {
   "display_name": "Python 3.10.2 64-bit",
   "language": "python",
   "name": "python3"
  },
  "language_info": {
   "codemirror_mode": {
    "name": "ipython",
    "version": 3
   },
   "file_extension": ".py",
   "mimetype": "text/x-python",
   "name": "python",
   "nbconvert_exporter": "python",
   "pygments_lexer": "ipython3",
   "version": "3.10.2"
  },
  "orig_nbformat": 4,
  "vscode": {
   "interpreter": {
    "hash": "26de051ba29f2982a8de78e945f0abaf191376122a1563185a90213a26c5da77"
   }
  }
 },
 "nbformat": 4,
 "nbformat_minor": 2
}
